{
  "nbformat": 4,
  "nbformat_minor": 0,
  "metadata": {
    "colab": {
      "provenance": [],
      "authorship_tag": "ABX9TyMar/vbpaq+20WI9ygQbZwz",
      "include_colab_link": true
    },
    "kernelspec": {
      "name": "python3",
      "display_name": "Python 3"
    },
    "language_info": {
      "name": "python"
    }
  },
  "cells": [
    {
      "cell_type": "markdown",
      "metadata": {
        "id": "view-in-github",
        "colab_type": "text"
      },
      "source": [
        "<a href=\"https://colab.research.google.com/github/talha-q/Pytorch_learning/blob/main/30.ipynb\" target=\"_parent\"><img src=\"https://colab.research.google.com/assets/colab-badge.svg\" alt=\"Open In Colab\"/></a>"
      ]
    },
    {
      "cell_type": "code",
      "execution_count": 1,
      "metadata": {
        "colab": {
          "base_uri": "https://localhost:8080/"
        },
        "id": "bf5MjBpHYfyO",
        "outputId": "5265722f-b663-44dc-bd5e-6ce3523fa4e7"
      },
      "outputs": [
        {
          "output_type": "execute_result",
          "data": {
            "text/plain": [
              "tensor([[0.2805, 0.5631, 0.9163, 0.9567, 0.9215, 0.5761, 0.6309, 0.5016, 0.0708,\n",
              "         0.4116, 0.6666, 0.3653, 0.9359, 0.1238, 0.1941, 0.0194]])"
            ]
          },
          "metadata": {},
          "execution_count": 1
        }
      ],
      "source": [
        "import torch\n",
        "T=torch.rand(1,16)\n",
        "T"
      ]
    },
    {
      "cell_type": "code",
      "source": [
        "T.reshape(8,2)"
      ],
      "metadata": {
        "colab": {
          "base_uri": "https://localhost:8080/"
        },
        "id": "qm0NSeCUYpeQ",
        "outputId": "3db4e2a2-7daf-48e6-feb6-7d0baba2ff3c"
      },
      "execution_count": 3,
      "outputs": [
        {
          "output_type": "execute_result",
          "data": {
            "text/plain": [
              "tensor([[0.2805, 0.5631],\n",
              "        [0.9163, 0.9567],\n",
              "        [0.9215, 0.5761],\n",
              "        [0.6309, 0.5016],\n",
              "        [0.0708, 0.4116],\n",
              "        [0.6666, 0.3653],\n",
              "        [0.9359, 0.1238],\n",
              "        [0.1941, 0.0194]])"
            ]
          },
          "metadata": {},
          "execution_count": 3
        }
      ]
    },
    {
      "cell_type": "code",
      "source": [
        "T.reshape(2,8)"
      ],
      "metadata": {
        "colab": {
          "base_uri": "https://localhost:8080/"
        },
        "id": "jFjZ2mlFZCi1",
        "outputId": "8e673eb1-7bde-4401-8136-4e3e76476bc9"
      },
      "execution_count": 5,
      "outputs": [
        {
          "output_type": "execute_result",
          "data": {
            "text/plain": [
              "tensor([[0.2805, 0.5631, 0.9163, 0.9567, 0.9215, 0.5761, 0.6309, 0.5016],\n",
              "        [0.0708, 0.4116, 0.6666, 0.3653, 0.9359, 0.1238, 0.1941, 0.0194]])"
            ]
          },
          "metadata": {},
          "execution_count": 5
        }
      ]
    },
    {
      "cell_type": "code",
      "source": [
        "T.reshape(4,4)"
      ],
      "metadata": {
        "colab": {
          "base_uri": "https://localhost:8080/"
        },
        "id": "LT9wQ2g0ZJfq",
        "outputId": "22d761c3-836e-4916-9d18-942b54fa5b0d"
      },
      "execution_count": 6,
      "outputs": [
        {
          "output_type": "execute_result",
          "data": {
            "text/plain": [
              "tensor([[0.2805, 0.5631, 0.9163, 0.9567],\n",
              "        [0.9215, 0.5761, 0.6309, 0.5016],\n",
              "        [0.0708, 0.4116, 0.6666, 0.3653],\n",
              "        [0.9359, 0.1238, 0.1941, 0.0194]])"
            ]
          },
          "metadata": {},
          "execution_count": 6
        }
      ]
    },
    {
      "cell_type": "code",
      "source": [
        "T.view(4,4)"
      ],
      "metadata": {
        "colab": {
          "base_uri": "https://localhost:8080/"
        },
        "id": "O6wam-oFZO3l",
        "outputId": "fac60d2f-3ba5-4445-cc47-a44f7df856a3"
      },
      "execution_count": 7,
      "outputs": [
        {
          "output_type": "execute_result",
          "data": {
            "text/plain": [
              "tensor([[0.2805, 0.5631, 0.9163, 0.9567],\n",
              "        [0.9215, 0.5761, 0.6309, 0.5016],\n",
              "        [0.0708, 0.4116, 0.6666, 0.3653],\n",
              "        [0.9359, 0.1238, 0.1941, 0.0194]])"
            ]
          },
          "metadata": {},
          "execution_count": 7
        }
      ]
    },
    {
      "cell_type": "code",
      "source": [
        "torch.stack(T,T,T)"
      ],
      "metadata": {
        "colab": {
          "base_uri": "https://localhost:8080/",
          "height": 166
        },
        "id": "FlsSR-e0ZSpr",
        "outputId": "6847e326-68dd-486c-fdc9-6dbbf7eb6668"
      },
      "execution_count": 8,
      "outputs": [
        {
          "output_type": "error",
          "ename": "TypeError",
          "evalue": "ignored",
          "traceback": [
            "\u001b[0;31m---------------------------------------------------------------------------\u001b[0m",
            "\u001b[0;31mTypeError\u001b[0m                                 Traceback (most recent call last)",
            "\u001b[0;32m<ipython-input-8-8bb7b3e6b671>\u001b[0m in \u001b[0;36m<module>\u001b[0;34m\u001b[0m\n\u001b[0;32m----> 1\u001b[0;31m \u001b[0mtorch\u001b[0m\u001b[0;34m.\u001b[0m\u001b[0mstack\u001b[0m\u001b[0;34m(\u001b[0m\u001b[0mT\u001b[0m\u001b[0;34m,\u001b[0m\u001b[0mT\u001b[0m\u001b[0;34m,\u001b[0m\u001b[0mT\u001b[0m\u001b[0;34m)\u001b[0m\u001b[0;34m\u001b[0m\u001b[0;34m\u001b[0m\u001b[0m\n\u001b[0m",
            "\u001b[0;31mTypeError\u001b[0m: stack() takes from 1 to 2 positional arguments but 3 were given"
          ]
        }
      ]
    },
    {
      "cell_type": "code",
      "source": [
        "A=torch.rand(3)\n",
        "A"
      ],
      "metadata": {
        "colab": {
          "base_uri": "https://localhost:8080/"
        },
        "id": "64LpDoELZnq6",
        "outputId": "c9340413-44f6-40fb-a377-780f3ed13f2f"
      },
      "execution_count": 13,
      "outputs": [
        {
          "output_type": "execute_result",
          "data": {
            "text/plain": [
              "tensor([0.4741, 0.9627, 0.9547])"
            ]
          },
          "metadata": {},
          "execution_count": 13
        }
      ]
    },
    {
      "cell_type": "code",
      "source": [
        "torch.stack([A,A,A,A],dim=0)"
      ],
      "metadata": {
        "colab": {
          "base_uri": "https://localhost:8080/"
        },
        "id": "mqxc5OKvZq2Z",
        "outputId": "8ca1de17-8887-450d-b700-111a28218e48"
      },
      "execution_count": 16,
      "outputs": [
        {
          "output_type": "execute_result",
          "data": {
            "text/plain": [
              "tensor([[0.4741, 0.9627, 0.9547],\n",
              "        [0.4741, 0.9627, 0.9547],\n",
              "        [0.4741, 0.9627, 0.9547],\n",
              "        [0.4741, 0.9627, 0.9547]])"
            ]
          },
          "metadata": {},
          "execution_count": 16
        }
      ]
    },
    {
      "cell_type": "code",
      "source": [
        "T=torch.tensor([255,255,3])\n",
        "T"
      ],
      "metadata": {
        "colab": {
          "base_uri": "https://localhost:8080/"
        },
        "id": "Rg929Rv3ZwlT",
        "outputId": "34f5779b-a275-4d0c-a49b-d8eb7edd05c1"
      },
      "execution_count": 18,
      "outputs": [
        {
          "output_type": "execute_result",
          "data": {
            "text/plain": [
              "tensor([255, 255,   3])"
            ]
          },
          "metadata": {},
          "execution_count": 18
        }
      ]
    },
    {
      "cell_type": "code",
      "source": [
        "T.permute([3,255,255])"
      ],
      "metadata": {
        "colab": {
          "base_uri": "https://localhost:8080/",
          "height": 183
        },
        "id": "cFhEGch4fgqT",
        "outputId": "467efaf9-8f62-4415-eb54-97dc4f39144f"
      },
      "execution_count": 20,
      "outputs": [
        {
          "output_type": "error",
          "ename": "RuntimeError",
          "evalue": "ignored",
          "traceback": [
            "\u001b[0;31m---------------------------------------------------------------------------\u001b[0m",
            "\u001b[0;31mRuntimeError\u001b[0m                              Traceback (most recent call last)",
            "\u001b[0;32m<ipython-input-20-ff4b62c1dd8a>\u001b[0m in \u001b[0;36m<module>\u001b[0;34m\u001b[0m\n\u001b[0;32m----> 1\u001b[0;31m \u001b[0mT\u001b[0m\u001b[0;34m.\u001b[0m\u001b[0mpermute\u001b[0m\u001b[0;34m(\u001b[0m\u001b[0;34m[\u001b[0m\u001b[0;36m3\u001b[0m\u001b[0;34m,\u001b[0m\u001b[0;36m255\u001b[0m\u001b[0;34m,\u001b[0m\u001b[0;36m255\u001b[0m\u001b[0;34m]\u001b[0m\u001b[0;34m)\u001b[0m\u001b[0;34m\u001b[0m\u001b[0;34m\u001b[0m\u001b[0m\n\u001b[0m",
            "\u001b[0;31mRuntimeError\u001b[0m: permute(sparse_coo): number of dimensions in the tensor input does not match the length of the desired ordering of dimensions i.e. input.dim() = 1 is not equal to len(dims) = 3"
          ]
        }
      ]
    },
    {
      "cell_type": "code",
      "source": [
        "import torch\n",
        "C=torch.rand(255,255,3)"
      ],
      "metadata": {
        "id": "E9wvDjuIf6xz"
      },
      "execution_count": 21,
      "outputs": []
    },
    {
      "cell_type": "code",
      "source": [
        "C"
      ],
      "metadata": {
        "colab": {
          "base_uri": "https://localhost:8080/"
        },
        "id": "3HLQX66UgJ7O",
        "outputId": "738cab9d-0529-4765-fc73-de585e61e7f2"
      },
      "execution_count": 22,
      "outputs": [
        {
          "output_type": "execute_result",
          "data": {
            "text/plain": [
              "tensor([[[0.6140, 0.1889, 0.0104],\n",
              "         [0.3833, 0.2444, 0.2212],\n",
              "         [0.8473, 0.1231, 0.3943],\n",
              "         ...,\n",
              "         [0.5548, 0.5679, 0.3918],\n",
              "         [0.3561, 0.9868, 0.7114],\n",
              "         [0.0440, 0.6898, 0.3621]],\n",
              "\n",
              "        [[0.9932, 0.9829, 0.5226],\n",
              "         [0.2136, 0.2843, 0.7217],\n",
              "         [0.4682, 0.1393, 0.9668],\n",
              "         ...,\n",
              "         [0.6480, 0.7288, 0.5129],\n",
              "         [0.0774, 0.9800, 0.4974],\n",
              "         [0.9102, 0.7019, 0.6697]],\n",
              "\n",
              "        [[0.6623, 0.3555, 0.7469],\n",
              "         [0.0407, 0.4332, 0.1575],\n",
              "         [0.8458, 0.3393, 0.4446],\n",
              "         ...,\n",
              "         [0.6072, 0.5870, 0.5515],\n",
              "         [0.3914, 0.6449, 0.1943],\n",
              "         [0.7606, 0.1507, 0.8713]],\n",
              "\n",
              "        ...,\n",
              "\n",
              "        [[0.1565, 0.1400, 0.4379],\n",
              "         [0.8972, 0.8927, 0.0970],\n",
              "         [0.8669, 0.3810, 0.0643],\n",
              "         ...,\n",
              "         [0.3440, 0.2398, 0.7118],\n",
              "         [0.9678, 0.7541, 0.7785],\n",
              "         [0.0105, 0.9513, 0.8418]],\n",
              "\n",
              "        [[0.1728, 0.3276, 0.2478],\n",
              "         [0.4675, 0.0873, 0.3404],\n",
              "         [0.6955, 0.0650, 0.9130],\n",
              "         ...,\n",
              "         [0.0177, 0.3582, 0.2100],\n",
              "         [0.2509, 0.4069, 0.0766],\n",
              "         [0.5101, 0.2995, 0.8342]],\n",
              "\n",
              "        [[0.4313, 0.6810, 0.1674],\n",
              "         [0.0474, 0.9294, 0.6660],\n",
              "         [0.6867, 0.6081, 0.2882],\n",
              "         ...,\n",
              "         [0.7495, 0.2690, 0.9656],\n",
              "         [0.0239, 0.7947, 0.2174],\n",
              "         [0.0369, 0.3819, 0.2292]]])"
            ]
          },
          "metadata": {},
          "execution_count": 22
        }
      ]
    },
    {
      "cell_type": "code",
      "source": [
        "C.shape"
      ],
      "metadata": {
        "colab": {
          "base_uri": "https://localhost:8080/"
        },
        "id": "EObbkySygKkh",
        "outputId": "9e8281d1-12d6-4afe-d72a-d3df562fbc5a"
      },
      "execution_count": 24,
      "outputs": [
        {
          "output_type": "execute_result",
          "data": {
            "text/plain": [
              "torch.Size([255, 255, 3])"
            ]
          },
          "metadata": {},
          "execution_count": 24
        }
      ]
    },
    {
      "cell_type": "code",
      "source": [
        "C.ndim"
      ],
      "metadata": {
        "colab": {
          "base_uri": "https://localhost:8080/"
        },
        "id": "5dszfqKtgO9K",
        "outputId": "9cd9ae4d-513c-4913-c643-865353d96757"
      },
      "execution_count": 25,
      "outputs": [
        {
          "output_type": "execute_result",
          "data": {
            "text/plain": [
              "3"
            ]
          },
          "metadata": {},
          "execution_count": 25
        }
      ]
    },
    {
      "cell_type": "code",
      "source": [
        "C.permute(2,1,0),C.shape"
      ],
      "metadata": {
        "colab": {
          "base_uri": "https://localhost:8080/"
        },
        "id": "rGmF1FrvgjIe",
        "outputId": "4269009e-f1db-43aa-fe5f-83f8af4559fa"
      },
      "execution_count": 28,
      "outputs": [
        {
          "output_type": "execute_result",
          "data": {
            "text/plain": [
              "(tensor([[[0.6140, 0.9932, 0.6623,  ..., 0.1565, 0.1728, 0.4313],\n",
              "          [0.3833, 0.2136, 0.0407,  ..., 0.8972, 0.4675, 0.0474],\n",
              "          [0.8473, 0.4682, 0.8458,  ..., 0.8669, 0.6955, 0.6867],\n",
              "          ...,\n",
              "          [0.5548, 0.6480, 0.6072,  ..., 0.3440, 0.0177, 0.7495],\n",
              "          [0.3561, 0.0774, 0.3914,  ..., 0.9678, 0.2509, 0.0239],\n",
              "          [0.0440, 0.9102, 0.7606,  ..., 0.0105, 0.5101, 0.0369]],\n",
              " \n",
              "         [[0.1889, 0.9829, 0.3555,  ..., 0.1400, 0.3276, 0.6810],\n",
              "          [0.2444, 0.2843, 0.4332,  ..., 0.8927, 0.0873, 0.9294],\n",
              "          [0.1231, 0.1393, 0.3393,  ..., 0.3810, 0.0650, 0.6081],\n",
              "          ...,\n",
              "          [0.5679, 0.7288, 0.5870,  ..., 0.2398, 0.3582, 0.2690],\n",
              "          [0.9868, 0.9800, 0.6449,  ..., 0.7541, 0.4069, 0.7947],\n",
              "          [0.6898, 0.7019, 0.1507,  ..., 0.9513, 0.2995, 0.3819]],\n",
              " \n",
              "         [[0.0104, 0.5226, 0.7469,  ..., 0.4379, 0.2478, 0.1674],\n",
              "          [0.2212, 0.7217, 0.1575,  ..., 0.0970, 0.3404, 0.6660],\n",
              "          [0.3943, 0.9668, 0.4446,  ..., 0.0643, 0.9130, 0.2882],\n",
              "          ...,\n",
              "          [0.3918, 0.5129, 0.5515,  ..., 0.7118, 0.2100, 0.9656],\n",
              "          [0.7114, 0.4974, 0.1943,  ..., 0.7785, 0.0766, 0.2174],\n",
              "          [0.3621, 0.6697, 0.8713,  ..., 0.8418, 0.8342, 0.2292]]]),\n",
              " torch.Size([255, 255, 3]))"
            ]
          },
          "metadata": {},
          "execution_count": 28
        }
      ]
    },
    {
      "cell_type": "code",
      "source": [
        "C.shape"
      ],
      "metadata": {
        "colab": {
          "base_uri": "https://localhost:8080/"
        },
        "id": "XKUsvP4AgnkU",
        "outputId": "e5d13b6d-f42b-4287-f4d6-bdd713acb2ca"
      },
      "execution_count": 29,
      "outputs": [
        {
          "output_type": "execute_result",
          "data": {
            "text/plain": [
              "torch.Size([255, 255, 3])"
            ]
          },
          "metadata": {},
          "execution_count": 29
        }
      ]
    },
    {
      "cell_type": "code",
      "source": [
        "C.permute(0,2,1).shape"
      ],
      "metadata": {
        "colab": {
          "base_uri": "https://localhost:8080/"
        },
        "id": "Imk1yrbgg9A1",
        "outputId": "37de6863-ee21-479f-c557-8e4f2c06ef5e"
      },
      "execution_count": 30,
      "outputs": [
        {
          "output_type": "execute_result",
          "data": {
            "text/plain": [
              "torch.Size([255, 3, 255])"
            ]
          },
          "metadata": {},
          "execution_count": 30
        }
      ]
    },
    {
      "cell_type": "code",
      "source": [
        "C.permute(1,0,2).shape"
      ],
      "metadata": {
        "colab": {
          "base_uri": "https://localhost:8080/"
        },
        "id": "Uh_NP_9ohCpO",
        "outputId": "ef14fb29-1026-4d75-ebc5-ad4e9a38a440"
      },
      "execution_count": 31,
      "outputs": [
        {
          "output_type": "execute_result",
          "data": {
            "text/plain": [
              "torch.Size([255, 255, 3])"
            ]
          },
          "metadata": {},
          "execution_count": 31
        }
      ]
    },
    {
      "cell_type": "code",
      "source": [
        "A=torch.arange(1,10)\n",
        "A,A.shape"
      ],
      "metadata": {
        "colab": {
          "base_uri": "https://localhost:8080/"
        },
        "id": "UF6e-UWEhHzL",
        "outputId": "92bde481-d3ce-41d2-9538-2e822262274a"
      },
      "execution_count": 36,
      "outputs": [
        {
          "output_type": "execute_result",
          "data": {
            "text/plain": [
              "(tensor([1, 2, 3, 4, 5, 6, 7, 8, 9]), torch.Size([9]))"
            ]
          },
          "metadata": {},
          "execution_count": 36
        }
      ]
    },
    {
      "cell_type": "code",
      "source": [
        "B=A.reshape(1,3,3)\n"
      ],
      "metadata": {
        "id": "SpI103qxlC3K"
      },
      "execution_count": 48,
      "outputs": []
    },
    {
      "cell_type": "code",
      "source": [
        "B[0]"
      ],
      "metadata": {
        "colab": {
          "base_uri": "https://localhost:8080/"
        },
        "id": "8ZerNETJlEbK",
        "outputId": "e4d61602-3667-4dec-f936-cf17945b5f52"
      },
      "execution_count": 49,
      "outputs": [
        {
          "output_type": "execute_result",
          "data": {
            "text/plain": [
              "tensor([[1, 2, 3],\n",
              "        [4, 5, 6],\n",
              "        [7, 8, 9]])"
            ]
          },
          "metadata": {},
          "execution_count": 49
        }
      ]
    },
    {
      "cell_type": "code",
      "source": [
        "B.shape"
      ],
      "metadata": {
        "colab": {
          "base_uri": "https://localhost:8080/"
        },
        "id": "eZFTsF2ylts3",
        "outputId": "45d4642f-601e-42b0-8cac-6995efbfdf08"
      },
      "execution_count": 50,
      "outputs": [
        {
          "output_type": "execute_result",
          "data": {
            "text/plain": [
              "torch.Size([1, 3, 3])"
            ]
          },
          "metadata": {},
          "execution_count": 50
        }
      ]
    },
    {
      "cell_type": "code",
      "source": [
        "B[0]"
      ],
      "metadata": {
        "colab": {
          "base_uri": "https://localhost:8080/"
        },
        "id": "zj_qgXIUlxEL",
        "outputId": "c3eabdb2-1223-4976-b5c3-260c05410831"
      },
      "execution_count": 51,
      "outputs": [
        {
          "output_type": "execute_result",
          "data": {
            "text/plain": [
              "tensor([[1, 2, 3],\n",
              "        [4, 5, 6],\n",
              "        [7, 8, 9]])"
            ]
          },
          "metadata": {},
          "execution_count": 51
        }
      ]
    },
    {
      "cell_type": "code",
      "source": [
        "B[0,0]"
      ],
      "metadata": {
        "colab": {
          "base_uri": "https://localhost:8080/"
        },
        "id": "-AalxwYCmF47",
        "outputId": "ab3de108-54c6-4c6a-d629-fc1f8ae9ec22"
      },
      "execution_count": 52,
      "outputs": [
        {
          "output_type": "execute_result",
          "data": {
            "text/plain": [
              "tensor([1, 2, 3])"
            ]
          },
          "metadata": {},
          "execution_count": 52
        }
      ]
    },
    {
      "cell_type": "code",
      "source": [
        "B[0,0,2]"
      ],
      "metadata": {
        "colab": {
          "base_uri": "https://localhost:8080/"
        },
        "id": "6SDuwZ7MmHe5",
        "outputId": "aa0c893f-75f4-4589-d33b-48de64491aea"
      },
      "execution_count": 54,
      "outputs": [
        {
          "output_type": "execute_result",
          "data": {
            "text/plain": [
              "tensor(3)"
            ]
          },
          "metadata": {},
          "execution_count": 54
        }
      ]
    },
    {
      "cell_type": "code",
      "source": [
        "#here we can also use : to select all elements of a dimension, for that purpose we can do something like below\n",
        "#: it means it selects all elements of the dimensions to give us a value.\n",
        "B[:,:,0], B[0,1,:]"
      ],
      "metadata": {
        "colab": {
          "base_uri": "https://localhost:8080/"
        },
        "id": "fwONYhYpmJJr",
        "outputId": "f1a611c4-3962-4929-c92e-b93cddc30082"
      },
      "execution_count": 59,
      "outputs": [
        {
          "output_type": "execute_result",
          "data": {
            "text/plain": [
              "(tensor([[1, 4, 7]]), tensor([4, 5, 6]))"
            ]
          },
          "metadata": {},
          "execution_count": 59
        }
      ]
    },
    {
      "cell_type": "code",
      "source": [
        "#to get number 9 we can do this\n",
        "B[0][2][2]"
      ],
      "metadata": {
        "colab": {
          "base_uri": "https://localhost:8080/"
        },
        "id": "jVwDufaumbmj",
        "outputId": "39736c81-03ba-47fb-83c3-7a1bf28d51cf"
      },
      "execution_count": 60,
      "outputs": [
        {
          "output_type": "execute_result",
          "data": {
            "text/plain": [
              "tensor(9)"
            ]
          },
          "metadata": {},
          "execution_count": 60
        }
      ]
    },
    {
      "cell_type": "code",
      "source": [
        "B[:,2,2]"
      ],
      "metadata": {
        "colab": {
          "base_uri": "https://localhost:8080/"
        },
        "id": "9tlHgQqenHsZ",
        "outputId": "8c7a6bc0-0e20-41d9-a096-e22bee06f4fe"
      },
      "execution_count": 61,
      "outputs": [
        {
          "output_type": "execute_result",
          "data": {
            "text/plain": [
              "tensor([9])"
            ]
          },
          "metadata": {},
          "execution_count": 61
        }
      ]
    },
    {
      "cell_type": "code",
      "source": [
        "B[:,:,2]"
      ],
      "metadata": {
        "colab": {
          "base_uri": "https://localhost:8080/"
        },
        "id": "YKpMo-KPnxJY",
        "outputId": "154bda48-4689-4ebe-9445-228b584977c9"
      },
      "execution_count": 62,
      "outputs": [
        {
          "output_type": "execute_result",
          "data": {
            "text/plain": [
              "tensor([[3, 6, 9]])"
            ]
          },
          "metadata": {},
          "execution_count": 62
        }
      ]
    },
    {
      "cell_type": "code",
      "source": [
        "import numpy as np\n",
        "N=np.arange(0,9)\n",
        "N"
      ],
      "metadata": {
        "colab": {
          "base_uri": "https://localhost:8080/"
        },
        "id": "GtNZa1Xen8Y2",
        "outputId": "b2bf7c1f-8edd-4616-d4e8-f0d7a36fe1c5"
      },
      "execution_count": 65,
      "outputs": [
        {
          "output_type": "execute_result",
          "data": {
            "text/plain": [
              "array([0, 1, 2, 3, 4, 5, 6, 7, 8])"
            ]
          },
          "metadata": {},
          "execution_count": 65
        }
      ]
    },
    {
      "cell_type": "code",
      "source": [
        "NT=torch.from_numpy(N)\n",
        "NT"
      ],
      "metadata": {
        "colab": {
          "base_uri": "https://localhost:8080/"
        },
        "id": "bl0rDSzrsqXs",
        "outputId": "196901c6-5b63-4e07-abd5-07a5d8554090"
      },
      "execution_count": 66,
      "outputs": [
        {
          "output_type": "execute_result",
          "data": {
            "text/plain": [
              "tensor([0, 1, 2, 3, 4, 5, 6, 7, 8])"
            ]
          },
          "metadata": {},
          "execution_count": 66
        }
      ]
    },
    {
      "cell_type": "code",
      "source": [],
      "metadata": {
        "id": "qBilVEfhtRQd"
      },
      "execution_count": null,
      "outputs": []
    }
  ]
}